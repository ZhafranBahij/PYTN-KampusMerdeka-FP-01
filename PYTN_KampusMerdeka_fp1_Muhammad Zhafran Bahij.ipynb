{
 "cells": [
  {
   "cell_type": "markdown",
   "metadata": {
    "id": "JJX4MpJI5khz"
   },
   "source": [
    "# **PERKENALAN**\n",
    "\n",
    "## 1. Latar Belakang\n",
    "Project 1 mengangkat kasus regresi dengan dataset taxi online, pada project ini penulis ingin melihat hubungan dari nilai harga layanan taxi online dengan variabel-variabel yang disediakan (seperti provider taxi online, temperature hari pemesanan, tanggal pemesanan, dll) \n",
    "\n",
    "-----------------------------------------------------------------------\n",
    "\n",
    "## 2. Dataset\n",
    "### 2.1 Penjelasan dan Sumber\n",
    "Dataset yang digunakan bersumber dari situs kaggle, Data tersebut merupakan data pemesanan taxi online dari dua provider taxi online terbesar, yaitu uber dan lyft, dataset terdiri dari 693071 data yang terbagi ke 57 kolom.\n",
    "\n",
    "### 2.2 Penjelasan kelas dan kolom\n",
    "Kolom-kolom tersebut nantinya akan dijadikan variabel independen dan variabel dependen, dimana nantinya variabel dependen (yaitu kolom harga) akan bergantung nilainya terhadap variabel independen (yaitu kolom numerik selain kolom harga)\n",
    "\n",
    "-----------------------------------------------------------------------\n",
    "\n",
    "## 3. Objective\n",
    "Tujuan dari project ini adalah melihat variabel atau kolom apa yang mempunyai keterikatan kuat terhadap harga layanan dari taxi online\n"
   ]
  },
  {
   "cell_type": "markdown",
   "metadata": {
    "id": "056qOxMy9fBt"
   },
   "source": [
    "==================================================================================================================="
   ]
  },
  {
   "cell_type": "markdown",
   "metadata": {
    "id": "is_hTo_y93GA"
   },
   "source": [
    "# **IMPORT LIBRARY**"
   ]
  },
  {
   "cell_type": "code",
   "execution_count": 1,
   "metadata": {
    "ExecuteTime": {
     "end_time": "2022-04-29T15:50:12.282464Z",
     "start_time": "2022-04-29T15:49:43.497894Z"
    },
    "id": "4tt1hcITZoTj"
   },
   "outputs": [],
   "source": [
    "import pandas as pd\n",
    "import pandas as pd\n",
    "import matplotlib.pyplot as plt\n",
    "import seaborn as sns\n",
    "import numpy as np\n",
    "import sklearn.metrics as skmet\n",
    "\n",
    "from sklearn.preprocessing import LabelEncoder, StandardScaler\n",
    "from sklearn.linear_model import LinearRegression\n",
    "from sklearn.model_selection import train_test_split"
   ]
  },
  {
   "cell_type": "markdown",
   "metadata": {
    "id": "LrMKw028_7fn"
   },
   "source": [
    "==================================================================================================================="
   ]
  },
  {
   "cell_type": "markdown",
   "metadata": {
    "id": "lYpvZf_N-X0G"
   },
   "source": [
    "# **DATA LOADING**"
   ]
  },
  {
   "cell_type": "code",
   "execution_count": 2,
   "metadata": {
    "ExecuteTime": {
     "end_time": "2022-04-29T15:50:35.124528Z",
     "start_time": "2022-04-29T15:50:12.282464Z"
    },
    "colab": {
     "base_uri": "https://localhost:8080/",
     "height": 530
    },
    "id": "qQtNS5o2dBwy",
    "outputId": "b198583c-0671-4e02-98f7-794d29370cf2"
   },
   "outputs": [
    {
     "data": {
      "text/html": [
       "<div>\n",
       "<style scoped>\n",
       "    .dataframe tbody tr th:only-of-type {\n",
       "        vertical-align: middle;\n",
       "    }\n",
       "\n",
       "    .dataframe tbody tr th {\n",
       "        vertical-align: top;\n",
       "    }\n",
       "\n",
       "    .dataframe thead th {\n",
       "        text-align: right;\n",
       "    }\n",
       "</style>\n",
       "<table border=\"1\" class=\"dataframe\">\n",
       "  <thead>\n",
       "    <tr style=\"text-align: right;\">\n",
       "      <th></th>\n",
       "      <th>id</th>\n",
       "      <th>timestamp</th>\n",
       "      <th>hour</th>\n",
       "      <th>day</th>\n",
       "      <th>month</th>\n",
       "      <th>datetime</th>\n",
       "      <th>timezone</th>\n",
       "      <th>source</th>\n",
       "      <th>destination</th>\n",
       "      <th>cab_type</th>\n",
       "      <th>product_id</th>\n",
       "      <th>name</th>\n",
       "      <th>price</th>\n",
       "      <th>distance</th>\n",
       "      <th>surge_multiplier</th>\n",
       "      <th>latitude</th>\n",
       "      <th>longitude</th>\n",
       "      <th>temperature</th>\n",
       "      <th>apparentTemperature</th>\n",
       "      <th>short_summary</th>\n",
       "      <th>long_summary</th>\n",
       "      <th>precipIntensity</th>\n",
       "      <th>precipProbability</th>\n",
       "      <th>humidity</th>\n",
       "      <th>windSpeed</th>\n",
       "      <th>windGust</th>\n",
       "      <th>windGustTime</th>\n",
       "      <th>visibility</th>\n",
       "      <th>temperatureHigh</th>\n",
       "      <th>temperatureHighTime</th>\n",
       "      <th>temperatureLow</th>\n",
       "      <th>temperatureLowTime</th>\n",
       "      <th>apparentTemperatureHigh</th>\n",
       "      <th>apparentTemperatureHighTime</th>\n",
       "      <th>apparentTemperatureLow</th>\n",
       "      <th>apparentTemperatureLowTime</th>\n",
       "      <th>icon</th>\n",
       "      <th>dewPoint</th>\n",
       "      <th>pressure</th>\n",
       "      <th>windBearing</th>\n",
       "      <th>cloudCover</th>\n",
       "      <th>uvIndex</th>\n",
       "      <th>visibility.1</th>\n",
       "      <th>ozone</th>\n",
       "      <th>sunriseTime</th>\n",
       "      <th>sunsetTime</th>\n",
       "      <th>moonPhase</th>\n",
       "      <th>precipIntensityMax</th>\n",
       "      <th>uvIndexTime</th>\n",
       "      <th>temperatureMin</th>\n",
       "      <th>temperatureMinTime</th>\n",
       "      <th>temperatureMax</th>\n",
       "      <th>temperatureMaxTime</th>\n",
       "      <th>apparentTemperatureMin</th>\n",
       "      <th>apparentTemperatureMinTime</th>\n",
       "      <th>apparentTemperatureMax</th>\n",
       "      <th>apparentTemperatureMaxTime</th>\n",
       "    </tr>\n",
       "  </thead>\n",
       "  <tbody>\n",
       "    <tr>\n",
       "      <th>0</th>\n",
       "      <td>424553bb-7174-41ea-aeb4-fe06d4f4b9d7</td>\n",
       "      <td>1.544953e+09</td>\n",
       "      <td>9</td>\n",
       "      <td>16</td>\n",
       "      <td>12</td>\n",
       "      <td>2018-12-16 09:30:07</td>\n",
       "      <td>America/New_York</td>\n",
       "      <td>Haymarket Square</td>\n",
       "      <td>North Station</td>\n",
       "      <td>Lyft</td>\n",
       "      <td>lyft_line</td>\n",
       "      <td>Shared</td>\n",
       "      <td>5.0</td>\n",
       "      <td>0.44</td>\n",
       "      <td>1.0</td>\n",
       "      <td>42.2148</td>\n",
       "      <td>-71.033</td>\n",
       "      <td>42.34</td>\n",
       "      <td>37.12</td>\n",
       "      <td>Mostly Cloudy</td>\n",
       "      <td>Rain throughout the day.</td>\n",
       "      <td>0.0000</td>\n",
       "      <td>0.0</td>\n",
       "      <td>0.68</td>\n",
       "      <td>8.66</td>\n",
       "      <td>9.17</td>\n",
       "      <td>1545015600</td>\n",
       "      <td>10.000</td>\n",
       "      <td>43.68</td>\n",
       "      <td>1544968800</td>\n",
       "      <td>34.19</td>\n",
       "      <td>1545048000</td>\n",
       "      <td>37.95</td>\n",
       "      <td>1544968800</td>\n",
       "      <td>27.39</td>\n",
       "      <td>1545044400</td>\n",
       "      <td>partly-cloudy-night</td>\n",
       "      <td>32.70</td>\n",
       "      <td>1021.98</td>\n",
       "      <td>57</td>\n",
       "      <td>0.72</td>\n",
       "      <td>0</td>\n",
       "      <td>10.000</td>\n",
       "      <td>303.8</td>\n",
       "      <td>1544962084</td>\n",
       "      <td>1544994864</td>\n",
       "      <td>0.30</td>\n",
       "      <td>0.1276</td>\n",
       "      <td>1544979600</td>\n",
       "      <td>39.89</td>\n",
       "      <td>1545012000</td>\n",
       "      <td>43.68</td>\n",
       "      <td>1544968800</td>\n",
       "      <td>33.73</td>\n",
       "      <td>1545012000</td>\n",
       "      <td>38.07</td>\n",
       "      <td>1544958000</td>\n",
       "    </tr>\n",
       "    <tr>\n",
       "      <th>1</th>\n",
       "      <td>4bd23055-6827-41c6-b23b-3c491f24e74d</td>\n",
       "      <td>1.543284e+09</td>\n",
       "      <td>2</td>\n",
       "      <td>27</td>\n",
       "      <td>11</td>\n",
       "      <td>2018-11-27 02:00:23</td>\n",
       "      <td>America/New_York</td>\n",
       "      <td>Haymarket Square</td>\n",
       "      <td>North Station</td>\n",
       "      <td>Lyft</td>\n",
       "      <td>lyft_premier</td>\n",
       "      <td>Lux</td>\n",
       "      <td>11.0</td>\n",
       "      <td>0.44</td>\n",
       "      <td>1.0</td>\n",
       "      <td>42.2148</td>\n",
       "      <td>-71.033</td>\n",
       "      <td>43.58</td>\n",
       "      <td>37.35</td>\n",
       "      <td>Rain</td>\n",
       "      <td>Rain until morning, starting again in the eve...</td>\n",
       "      <td>0.1299</td>\n",
       "      <td>1.0</td>\n",
       "      <td>0.94</td>\n",
       "      <td>11.98</td>\n",
       "      <td>11.98</td>\n",
       "      <td>1543291200</td>\n",
       "      <td>4.786</td>\n",
       "      <td>47.30</td>\n",
       "      <td>1543251600</td>\n",
       "      <td>42.10</td>\n",
       "      <td>1543298400</td>\n",
       "      <td>43.92</td>\n",
       "      <td>1543251600</td>\n",
       "      <td>36.20</td>\n",
       "      <td>1543291200</td>\n",
       "      <td>rain</td>\n",
       "      <td>41.83</td>\n",
       "      <td>1003.97</td>\n",
       "      <td>90</td>\n",
       "      <td>1.00</td>\n",
       "      <td>0</td>\n",
       "      <td>4.786</td>\n",
       "      <td>291.1</td>\n",
       "      <td>1543232969</td>\n",
       "      <td>1543266992</td>\n",
       "      <td>0.64</td>\n",
       "      <td>0.1300</td>\n",
       "      <td>1543251600</td>\n",
       "      <td>40.49</td>\n",
       "      <td>1543233600</td>\n",
       "      <td>47.30</td>\n",
       "      <td>1543251600</td>\n",
       "      <td>36.20</td>\n",
       "      <td>1543291200</td>\n",
       "      <td>43.92</td>\n",
       "      <td>1543251600</td>\n",
       "    </tr>\n",
       "    <tr>\n",
       "      <th>2</th>\n",
       "      <td>981a3613-77af-4620-a42a-0c0866077d1e</td>\n",
       "      <td>1.543367e+09</td>\n",
       "      <td>1</td>\n",
       "      <td>28</td>\n",
       "      <td>11</td>\n",
       "      <td>2018-11-28 01:00:22</td>\n",
       "      <td>America/New_York</td>\n",
       "      <td>Haymarket Square</td>\n",
       "      <td>North Station</td>\n",
       "      <td>Lyft</td>\n",
       "      <td>lyft</td>\n",
       "      <td>Lyft</td>\n",
       "      <td>7.0</td>\n",
       "      <td>0.44</td>\n",
       "      <td>1.0</td>\n",
       "      <td>42.2148</td>\n",
       "      <td>-71.033</td>\n",
       "      <td>38.33</td>\n",
       "      <td>32.93</td>\n",
       "      <td>Clear</td>\n",
       "      <td>Light rain in the morning.</td>\n",
       "      <td>0.0000</td>\n",
       "      <td>0.0</td>\n",
       "      <td>0.75</td>\n",
       "      <td>7.33</td>\n",
       "      <td>7.33</td>\n",
       "      <td>1543334400</td>\n",
       "      <td>10.000</td>\n",
       "      <td>47.55</td>\n",
       "      <td>1543320000</td>\n",
       "      <td>33.10</td>\n",
       "      <td>1543402800</td>\n",
       "      <td>44.12</td>\n",
       "      <td>1543320000</td>\n",
       "      <td>29.11</td>\n",
       "      <td>1543392000</td>\n",
       "      <td>clear-night</td>\n",
       "      <td>31.10</td>\n",
       "      <td>992.28</td>\n",
       "      <td>240</td>\n",
       "      <td>0.03</td>\n",
       "      <td>0</td>\n",
       "      <td>10.000</td>\n",
       "      <td>315.7</td>\n",
       "      <td>1543319437</td>\n",
       "      <td>1543353364</td>\n",
       "      <td>0.68</td>\n",
       "      <td>0.1064</td>\n",
       "      <td>1543338000</td>\n",
       "      <td>35.36</td>\n",
       "      <td>1543377600</td>\n",
       "      <td>47.55</td>\n",
       "      <td>1543320000</td>\n",
       "      <td>31.04</td>\n",
       "      <td>1543377600</td>\n",
       "      <td>44.12</td>\n",
       "      <td>1543320000</td>\n",
       "    </tr>\n",
       "    <tr>\n",
       "      <th>3</th>\n",
       "      <td>c2d88af2-d278-4bfd-a8d0-29ca77cc5512</td>\n",
       "      <td>1.543554e+09</td>\n",
       "      <td>4</td>\n",
       "      <td>30</td>\n",
       "      <td>11</td>\n",
       "      <td>2018-11-30 04:53:02</td>\n",
       "      <td>America/New_York</td>\n",
       "      <td>Haymarket Square</td>\n",
       "      <td>North Station</td>\n",
       "      <td>Lyft</td>\n",
       "      <td>lyft_luxsuv</td>\n",
       "      <td>Lux Black XL</td>\n",
       "      <td>26.0</td>\n",
       "      <td>0.44</td>\n",
       "      <td>1.0</td>\n",
       "      <td>42.2148</td>\n",
       "      <td>-71.033</td>\n",
       "      <td>34.38</td>\n",
       "      <td>29.63</td>\n",
       "      <td>Clear</td>\n",
       "      <td>Partly cloudy throughout the day.</td>\n",
       "      <td>0.0000</td>\n",
       "      <td>0.0</td>\n",
       "      <td>0.73</td>\n",
       "      <td>5.28</td>\n",
       "      <td>5.28</td>\n",
       "      <td>1543514400</td>\n",
       "      <td>10.000</td>\n",
       "      <td>45.03</td>\n",
       "      <td>1543510800</td>\n",
       "      <td>28.90</td>\n",
       "      <td>1543579200</td>\n",
       "      <td>38.53</td>\n",
       "      <td>1543510800</td>\n",
       "      <td>26.20</td>\n",
       "      <td>1543575600</td>\n",
       "      <td>clear-night</td>\n",
       "      <td>26.64</td>\n",
       "      <td>1013.73</td>\n",
       "      <td>310</td>\n",
       "      <td>0.00</td>\n",
       "      <td>0</td>\n",
       "      <td>10.000</td>\n",
       "      <td>291.1</td>\n",
       "      <td>1543492370</td>\n",
       "      <td>1543526114</td>\n",
       "      <td>0.75</td>\n",
       "      <td>0.0000</td>\n",
       "      <td>1543507200</td>\n",
       "      <td>34.67</td>\n",
       "      <td>1543550400</td>\n",
       "      <td>45.03</td>\n",
       "      <td>1543510800</td>\n",
       "      <td>30.30</td>\n",
       "      <td>1543550400</td>\n",
       "      <td>38.53</td>\n",
       "      <td>1543510800</td>\n",
       "    </tr>\n",
       "    <tr>\n",
       "      <th>4</th>\n",
       "      <td>e0126e1f-8ca9-4f2e-82b3-50505a09db9a</td>\n",
       "      <td>1.543463e+09</td>\n",
       "      <td>3</td>\n",
       "      <td>29</td>\n",
       "      <td>11</td>\n",
       "      <td>2018-11-29 03:49:20</td>\n",
       "      <td>America/New_York</td>\n",
       "      <td>Haymarket Square</td>\n",
       "      <td>North Station</td>\n",
       "      <td>Lyft</td>\n",
       "      <td>lyft_plus</td>\n",
       "      <td>Lyft XL</td>\n",
       "      <td>9.0</td>\n",
       "      <td>0.44</td>\n",
       "      <td>1.0</td>\n",
       "      <td>42.2148</td>\n",
       "      <td>-71.033</td>\n",
       "      <td>37.44</td>\n",
       "      <td>30.88</td>\n",
       "      <td>Partly Cloudy</td>\n",
       "      <td>Mostly cloudy throughout the day.</td>\n",
       "      <td>0.0000</td>\n",
       "      <td>0.0</td>\n",
       "      <td>0.70</td>\n",
       "      <td>9.14</td>\n",
       "      <td>9.14</td>\n",
       "      <td>1543446000</td>\n",
       "      <td>10.000</td>\n",
       "      <td>42.18</td>\n",
       "      <td>1543420800</td>\n",
       "      <td>36.71</td>\n",
       "      <td>1543478400</td>\n",
       "      <td>35.75</td>\n",
       "      <td>1543420800</td>\n",
       "      <td>30.29</td>\n",
       "      <td>1543460400</td>\n",
       "      <td>partly-cloudy-night</td>\n",
       "      <td>28.61</td>\n",
       "      <td>998.36</td>\n",
       "      <td>303</td>\n",
       "      <td>0.44</td>\n",
       "      <td>0</td>\n",
       "      <td>10.000</td>\n",
       "      <td>347.7</td>\n",
       "      <td>1543405904</td>\n",
       "      <td>1543439738</td>\n",
       "      <td>0.72</td>\n",
       "      <td>0.0001</td>\n",
       "      <td>1543420800</td>\n",
       "      <td>33.10</td>\n",
       "      <td>1543402800</td>\n",
       "      <td>42.18</td>\n",
       "      <td>1543420800</td>\n",
       "      <td>29.11</td>\n",
       "      <td>1543392000</td>\n",
       "      <td>35.75</td>\n",
       "      <td>1543420800</td>\n",
       "    </tr>\n",
       "  </tbody>\n",
       "</table>\n",
       "</div>"
      ],
      "text/plain": [
       "                                     id     timestamp  hour  day  month  \\\n",
       "0  424553bb-7174-41ea-aeb4-fe06d4f4b9d7  1.544953e+09     9   16     12   \n",
       "1  4bd23055-6827-41c6-b23b-3c491f24e74d  1.543284e+09     2   27     11   \n",
       "2  981a3613-77af-4620-a42a-0c0866077d1e  1.543367e+09     1   28     11   \n",
       "3  c2d88af2-d278-4bfd-a8d0-29ca77cc5512  1.543554e+09     4   30     11   \n",
       "4  e0126e1f-8ca9-4f2e-82b3-50505a09db9a  1.543463e+09     3   29     11   \n",
       "\n",
       "              datetime          timezone            source    destination  \\\n",
       "0  2018-12-16 09:30:07  America/New_York  Haymarket Square  North Station   \n",
       "1  2018-11-27 02:00:23  America/New_York  Haymarket Square  North Station   \n",
       "2  2018-11-28 01:00:22  America/New_York  Haymarket Square  North Station   \n",
       "3  2018-11-30 04:53:02  America/New_York  Haymarket Square  North Station   \n",
       "4  2018-11-29 03:49:20  America/New_York  Haymarket Square  North Station   \n",
       "\n",
       "  cab_type    product_id          name  price  distance  surge_multiplier  \\\n",
       "0     Lyft     lyft_line        Shared    5.0      0.44               1.0   \n",
       "1     Lyft  lyft_premier           Lux   11.0      0.44               1.0   \n",
       "2     Lyft          lyft          Lyft    7.0      0.44               1.0   \n",
       "3     Lyft   lyft_luxsuv  Lux Black XL   26.0      0.44               1.0   \n",
       "4     Lyft     lyft_plus       Lyft XL    9.0      0.44               1.0   \n",
       "\n",
       "   latitude  longitude  temperature  apparentTemperature    short_summary  \\\n",
       "0   42.2148    -71.033        42.34                37.12   Mostly Cloudy    \n",
       "1   42.2148    -71.033        43.58                37.35            Rain    \n",
       "2   42.2148    -71.033        38.33                32.93           Clear    \n",
       "3   42.2148    -71.033        34.38                29.63           Clear    \n",
       "4   42.2148    -71.033        37.44                30.88   Partly Cloudy    \n",
       "\n",
       "                                        long_summary  precipIntensity  \\\n",
       "0                          Rain throughout the day.            0.0000   \n",
       "1   Rain until morning, starting again in the eve...           0.1299   \n",
       "2                        Light rain in the morning.            0.0000   \n",
       "3                 Partly cloudy throughout the day.            0.0000   \n",
       "4                 Mostly cloudy throughout the day.            0.0000   \n",
       "\n",
       "   precipProbability  humidity  windSpeed  windGust  windGustTime  visibility  \\\n",
       "0                0.0      0.68       8.66      9.17    1545015600      10.000   \n",
       "1                1.0      0.94      11.98     11.98    1543291200       4.786   \n",
       "2                0.0      0.75       7.33      7.33    1543334400      10.000   \n",
       "3                0.0      0.73       5.28      5.28    1543514400      10.000   \n",
       "4                0.0      0.70       9.14      9.14    1543446000      10.000   \n",
       "\n",
       "   temperatureHigh  temperatureHighTime  temperatureLow  temperatureLowTime  \\\n",
       "0            43.68           1544968800           34.19          1545048000   \n",
       "1            47.30           1543251600           42.10          1543298400   \n",
       "2            47.55           1543320000           33.10          1543402800   \n",
       "3            45.03           1543510800           28.90          1543579200   \n",
       "4            42.18           1543420800           36.71          1543478400   \n",
       "\n",
       "   apparentTemperatureHigh  apparentTemperatureHighTime  \\\n",
       "0                    37.95                   1544968800   \n",
       "1                    43.92                   1543251600   \n",
       "2                    44.12                   1543320000   \n",
       "3                    38.53                   1543510800   \n",
       "4                    35.75                   1543420800   \n",
       "\n",
       "   apparentTemperatureLow  apparentTemperatureLowTime                   icon  \\\n",
       "0                   27.39                  1545044400   partly-cloudy-night    \n",
       "1                   36.20                  1543291200                  rain    \n",
       "2                   29.11                  1543392000           clear-night    \n",
       "3                   26.20                  1543575600           clear-night    \n",
       "4                   30.29                  1543460400   partly-cloudy-night    \n",
       "\n",
       "   dewPoint  pressure  windBearing  cloudCover  uvIndex  visibility.1  ozone  \\\n",
       "0     32.70   1021.98           57        0.72        0        10.000  303.8   \n",
       "1     41.83   1003.97           90        1.00        0         4.786  291.1   \n",
       "2     31.10    992.28          240        0.03        0        10.000  315.7   \n",
       "3     26.64   1013.73          310        0.00        0        10.000  291.1   \n",
       "4     28.61    998.36          303        0.44        0        10.000  347.7   \n",
       "\n",
       "   sunriseTime  sunsetTime  moonPhase  precipIntensityMax  uvIndexTime  \\\n",
       "0   1544962084  1544994864       0.30              0.1276   1544979600   \n",
       "1   1543232969  1543266992       0.64              0.1300   1543251600   \n",
       "2   1543319437  1543353364       0.68              0.1064   1543338000   \n",
       "3   1543492370  1543526114       0.75              0.0000   1543507200   \n",
       "4   1543405904  1543439738       0.72              0.0001   1543420800   \n",
       "\n",
       "   temperatureMin  temperatureMinTime  temperatureMax  temperatureMaxTime  \\\n",
       "0           39.89          1545012000           43.68          1544968800   \n",
       "1           40.49          1543233600           47.30          1543251600   \n",
       "2           35.36          1543377600           47.55          1543320000   \n",
       "3           34.67          1543550400           45.03          1543510800   \n",
       "4           33.10          1543402800           42.18          1543420800   \n",
       "\n",
       "   apparentTemperatureMin  apparentTemperatureMinTime  apparentTemperatureMax  \\\n",
       "0                   33.73                  1545012000                   38.07   \n",
       "1                   36.20                  1543291200                   43.92   \n",
       "2                   31.04                  1543377600                   44.12   \n",
       "3                   30.30                  1543550400                   38.53   \n",
       "4                   29.11                  1543392000                   35.75   \n",
       "\n",
       "   apparentTemperatureMaxTime  \n",
       "0                  1544958000  \n",
       "1                  1543251600  \n",
       "2                  1543320000  \n",
       "3                  1543510800  \n",
       "4                  1543420800  "
      ]
     },
     "execution_count": 2,
     "metadata": {},
     "output_type": "execute_result"
    }
   ],
   "source": [
    "df = pd.read_csv('./datasets/rideshare_kaggle.csv')\n",
    "pd.set_option('display.max_columns', None)\n",
    "df.head(5)"
   ]
  },
  {
   "cell_type": "markdown",
   "metadata": {
    "id": "m178Z3Nl-g86"
   },
   "source": [
    "#### Jumlah Data"
   ]
  },
  {
   "cell_type": "code",
   "execution_count": 3,
   "metadata": {
    "ExecuteTime": {
     "end_time": "2022-04-29T15:50:35.144288Z",
     "start_time": "2022-04-29T15:50:35.130100Z"
    },
    "colab": {
     "base_uri": "https://localhost:8080/"
    },
    "id": "L1Xs2x3D4Waa",
    "outputId": "46b041e7-fff9-49a4-c6f5-5f702055829a"
   },
   "outputs": [
    {
     "name": "stdout",
     "output_type": "stream",
     "text": [
      "Jumlah Data :  693071\n"
     ]
    }
   ],
   "source": [
    "print(\"Jumlah Data : \", len(df))"
   ]
  },
  {
   "cell_type": "markdown",
   "metadata": {
    "id": "83rg4vvi-vGI"
   },
   "source": [
    "#### Deskripsi Dataset"
   ]
  },
  {
   "cell_type": "code",
   "execution_count": 4,
   "metadata": {
    "ExecuteTime": {
     "end_time": "2022-04-29T15:50:43.717904Z",
     "start_time": "2022-04-29T15:50:35.155434Z"
    },
    "colab": {
     "base_uri": "https://localhost:8080/",
     "height": 364
    },
    "id": "qqSnzuzj-02G",
    "outputId": "fb44f1c3-5606-4276-a479-fef7565a6c07"
   },
   "outputs": [
    {
     "data": {
      "text/html": [
       "<div>\n",
       "<style scoped>\n",
       "    .dataframe tbody tr th:only-of-type {\n",
       "        vertical-align: middle;\n",
       "    }\n",
       "\n",
       "    .dataframe tbody tr th {\n",
       "        vertical-align: top;\n",
       "    }\n",
       "\n",
       "    .dataframe thead th {\n",
       "        text-align: right;\n",
       "    }\n",
       "</style>\n",
       "<table border=\"1\" class=\"dataframe\">\n",
       "  <thead>\n",
       "    <tr style=\"text-align: right;\">\n",
       "      <th></th>\n",
       "      <th>timestamp</th>\n",
       "      <th>hour</th>\n",
       "      <th>day</th>\n",
       "      <th>month</th>\n",
       "      <th>price</th>\n",
       "      <th>distance</th>\n",
       "      <th>surge_multiplier</th>\n",
       "      <th>latitude</th>\n",
       "      <th>longitude</th>\n",
       "      <th>temperature</th>\n",
       "      <th>apparentTemperature</th>\n",
       "      <th>precipIntensity</th>\n",
       "      <th>precipProbability</th>\n",
       "      <th>humidity</th>\n",
       "      <th>windSpeed</th>\n",
       "      <th>windGust</th>\n",
       "      <th>windGustTime</th>\n",
       "      <th>visibility</th>\n",
       "      <th>temperatureHigh</th>\n",
       "      <th>temperatureHighTime</th>\n",
       "      <th>temperatureLow</th>\n",
       "      <th>temperatureLowTime</th>\n",
       "      <th>apparentTemperatureHigh</th>\n",
       "      <th>apparentTemperatureHighTime</th>\n",
       "      <th>apparentTemperatureLow</th>\n",
       "      <th>apparentTemperatureLowTime</th>\n",
       "      <th>dewPoint</th>\n",
       "      <th>pressure</th>\n",
       "      <th>windBearing</th>\n",
       "      <th>cloudCover</th>\n",
       "      <th>uvIndex</th>\n",
       "      <th>visibility.1</th>\n",
       "      <th>ozone</th>\n",
       "      <th>sunriseTime</th>\n",
       "      <th>sunsetTime</th>\n",
       "      <th>moonPhase</th>\n",
       "      <th>precipIntensityMax</th>\n",
       "      <th>uvIndexTime</th>\n",
       "      <th>temperatureMin</th>\n",
       "      <th>temperatureMinTime</th>\n",
       "      <th>temperatureMax</th>\n",
       "      <th>temperatureMaxTime</th>\n",
       "      <th>apparentTemperatureMin</th>\n",
       "      <th>apparentTemperatureMinTime</th>\n",
       "      <th>apparentTemperatureMax</th>\n",
       "      <th>apparentTemperatureMaxTime</th>\n",
       "    </tr>\n",
       "  </thead>\n",
       "  <tbody>\n",
       "    <tr>\n",
       "      <th>count</th>\n",
       "      <td>6.930710e+05</td>\n",
       "      <td>693071.000000</td>\n",
       "      <td>693071.000000</td>\n",
       "      <td>693071.000000</td>\n",
       "      <td>637976.000000</td>\n",
       "      <td>693071.000000</td>\n",
       "      <td>693071.000000</td>\n",
       "      <td>693071.000000</td>\n",
       "      <td>693071.000000</td>\n",
       "      <td>693071.000000</td>\n",
       "      <td>693071.000000</td>\n",
       "      <td>693071.000000</td>\n",
       "      <td>693071.000000</td>\n",
       "      <td>693071.000000</td>\n",
       "      <td>693071.000000</td>\n",
       "      <td>693071.000000</td>\n",
       "      <td>6.930710e+05</td>\n",
       "      <td>693071.000000</td>\n",
       "      <td>693071.000000</td>\n",
       "      <td>6.930710e+05</td>\n",
       "      <td>693071.000000</td>\n",
       "      <td>6.930710e+05</td>\n",
       "      <td>693071.000000</td>\n",
       "      <td>6.930710e+05</td>\n",
       "      <td>693071.000000</td>\n",
       "      <td>6.930710e+05</td>\n",
       "      <td>693071.000000</td>\n",
       "      <td>693071.000000</td>\n",
       "      <td>693071.000000</td>\n",
       "      <td>693071.000000</td>\n",
       "      <td>693071.000000</td>\n",
       "      <td>693071.000000</td>\n",
       "      <td>693071.000000</td>\n",
       "      <td>6.930710e+05</td>\n",
       "      <td>6.930710e+05</td>\n",
       "      <td>693071.000000</td>\n",
       "      <td>693071.000000</td>\n",
       "      <td>6.930710e+05</td>\n",
       "      <td>693071.000000</td>\n",
       "      <td>6.930710e+05</td>\n",
       "      <td>693071.000000</td>\n",
       "      <td>6.930710e+05</td>\n",
       "      <td>693071.000000</td>\n",
       "      <td>6.930710e+05</td>\n",
       "      <td>693071.000000</td>\n",
       "      <td>6.930710e+05</td>\n",
       "    </tr>\n",
       "    <tr>\n",
       "      <th>mean</th>\n",
       "      <td>1.544046e+09</td>\n",
       "      <td>11.619137</td>\n",
       "      <td>17.794365</td>\n",
       "      <td>11.586684</td>\n",
       "      <td>16.545125</td>\n",
       "      <td>2.189430</td>\n",
       "      <td>1.013870</td>\n",
       "      <td>42.338172</td>\n",
       "      <td>-71.066151</td>\n",
       "      <td>39.584388</td>\n",
       "      <td>35.881222</td>\n",
       "      <td>0.008922</td>\n",
       "      <td>0.146076</td>\n",
       "      <td>0.741119</td>\n",
       "      <td>6.186253</td>\n",
       "      <td>8.469860</td>\n",
       "      <td>1.544049e+09</td>\n",
       "      <td>8.467970</td>\n",
       "      <td>45.040982</td>\n",
       "      <td>1.544050e+09</td>\n",
       "      <td>34.150736</td>\n",
       "      <td>1.544102e+09</td>\n",
       "      <td>41.614054</td>\n",
       "      <td>1.544050e+09</td>\n",
       "      <td>30.139824</td>\n",
       "      <td>1.544099e+09</td>\n",
       "      <td>31.656256</td>\n",
       "      <td>1010.094766</td>\n",
       "      <td>220.055853</td>\n",
       "      <td>0.686502</td>\n",
       "      <td>0.248908</td>\n",
       "      <td>8.467970</td>\n",
       "      <td>313.513635</td>\n",
       "      <td>1.544027e+09</td>\n",
       "      <td>1.544060e+09</td>\n",
       "      <td>0.579066</td>\n",
       "      <td>0.037374</td>\n",
       "      <td>1.544044e+09</td>\n",
       "      <td>33.457774</td>\n",
       "      <td>1.544042e+09</td>\n",
       "      <td>45.261313</td>\n",
       "      <td>1.544047e+09</td>\n",
       "      <td>29.731002</td>\n",
       "      <td>1.544048e+09</td>\n",
       "      <td>41.997343</td>\n",
       "      <td>1.544048e+09</td>\n",
       "    </tr>\n",
       "    <tr>\n",
       "      <th>std</th>\n",
       "      <td>6.891925e+05</td>\n",
       "      <td>6.948114</td>\n",
       "      <td>9.982286</td>\n",
       "      <td>0.492429</td>\n",
       "      <td>9.324359</td>\n",
       "      <td>1.138937</td>\n",
       "      <td>0.091641</td>\n",
       "      <td>0.047840</td>\n",
       "      <td>0.020302</td>\n",
       "      <td>6.726084</td>\n",
       "      <td>7.918707</td>\n",
       "      <td>0.026901</td>\n",
       "      <td>0.328938</td>\n",
       "      <td>0.138595</td>\n",
       "      <td>3.148223</td>\n",
       "      <td>5.289179</td>\n",
       "      <td>6.928244e+05</td>\n",
       "      <td>2.602888</td>\n",
       "      <td>5.996541</td>\n",
       "      <td>6.937921e+05</td>\n",
       "      <td>6.383163</td>\n",
       "      <td>6.922923e+05</td>\n",
       "      <td>7.666138</td>\n",
       "      <td>6.941699e+05</td>\n",
       "      <td>8.057468</td>\n",
       "      <td>6.927378e+05</td>\n",
       "      <td>9.142355</td>\n",
       "      <td>13.472899</td>\n",
       "      <td>99.102736</td>\n",
       "      <td>0.358534</td>\n",
       "      <td>0.474097</td>\n",
       "      <td>2.602888</td>\n",
       "      <td>27.953061</td>\n",
       "      <td>6.911393e+05</td>\n",
       "      <td>6.906634e+05</td>\n",
       "      <td>0.244705</td>\n",
       "      <td>0.055214</td>\n",
       "      <td>6.912028e+05</td>\n",
       "      <td>6.467224</td>\n",
       "      <td>6.901954e+05</td>\n",
       "      <td>5.645046</td>\n",
       "      <td>6.901353e+05</td>\n",
       "      <td>7.110494</td>\n",
       "      <td>6.871862e+05</td>\n",
       "      <td>6.936841</td>\n",
       "      <td>6.910777e+05</td>\n",
       "    </tr>\n",
       "    <tr>\n",
       "      <th>min</th>\n",
       "      <td>1.543204e+09</td>\n",
       "      <td>0.000000</td>\n",
       "      <td>1.000000</td>\n",
       "      <td>11.000000</td>\n",
       "      <td>2.500000</td>\n",
       "      <td>0.020000</td>\n",
       "      <td>1.000000</td>\n",
       "      <td>42.214800</td>\n",
       "      <td>-71.105400</td>\n",
       "      <td>18.910000</td>\n",
       "      <td>12.130000</td>\n",
       "      <td>0.000000</td>\n",
       "      <td>0.000000</td>\n",
       "      <td>0.380000</td>\n",
       "      <td>0.450000</td>\n",
       "      <td>0.800000</td>\n",
       "      <td>1.543151e+09</td>\n",
       "      <td>0.717000</td>\n",
       "      <td>32.680000</td>\n",
       "      <td>1.543154e+09</td>\n",
       "      <td>17.850000</td>\n",
       "      <td>1.543234e+09</td>\n",
       "      <td>22.620000</td>\n",
       "      <td>1.543187e+09</td>\n",
       "      <td>11.810000</td>\n",
       "      <td>1.543234e+09</td>\n",
       "      <td>4.390000</td>\n",
       "      <td>988.090000</td>\n",
       "      <td>2.000000</td>\n",
       "      <td>0.000000</td>\n",
       "      <td>0.000000</td>\n",
       "      <td>0.717000</td>\n",
       "      <td>269.400000</td>\n",
       "      <td>1.543147e+09</td>\n",
       "      <td>1.543181e+09</td>\n",
       "      <td>0.090000</td>\n",
       "      <td>0.000000</td>\n",
       "      <td>1.543162e+09</td>\n",
       "      <td>15.630000</td>\n",
       "      <td>1.543122e+09</td>\n",
       "      <td>33.510000</td>\n",
       "      <td>1.543154e+09</td>\n",
       "      <td>11.810000</td>\n",
       "      <td>1.543136e+09</td>\n",
       "      <td>28.950000</td>\n",
       "      <td>1.543187e+09</td>\n",
       "    </tr>\n",
       "    <tr>\n",
       "      <th>25%</th>\n",
       "      <td>1.543444e+09</td>\n",
       "      <td>6.000000</td>\n",
       "      <td>13.000000</td>\n",
       "      <td>11.000000</td>\n",
       "      <td>9.000000</td>\n",
       "      <td>1.280000</td>\n",
       "      <td>1.000000</td>\n",
       "      <td>42.350300</td>\n",
       "      <td>-71.081000</td>\n",
       "      <td>36.450000</td>\n",
       "      <td>31.910000</td>\n",
       "      <td>0.000000</td>\n",
       "      <td>0.000000</td>\n",
       "      <td>0.640000</td>\n",
       "      <td>3.410000</td>\n",
       "      <td>4.060000</td>\n",
       "      <td>1.543432e+09</td>\n",
       "      <td>8.432000</td>\n",
       "      <td>42.570000</td>\n",
       "      <td>1.543439e+09</td>\n",
       "      <td>30.170000</td>\n",
       "      <td>1.543489e+09</td>\n",
       "      <td>36.570000</td>\n",
       "      <td>1.543439e+09</td>\n",
       "      <td>27.700000</td>\n",
       "      <td>1.543478e+09</td>\n",
       "      <td>27.490000</td>\n",
       "      <td>999.820000</td>\n",
       "      <td>124.000000</td>\n",
       "      <td>0.370000</td>\n",
       "      <td>0.000000</td>\n",
       "      <td>8.432000</td>\n",
       "      <td>290.900000</td>\n",
       "      <td>1.543406e+09</td>\n",
       "      <td>1.543440e+09</td>\n",
       "      <td>0.300000</td>\n",
       "      <td>0.000000</td>\n",
       "      <td>1.543421e+09</td>\n",
       "      <td>30.170000</td>\n",
       "      <td>1.543399e+09</td>\n",
       "      <td>42.570000</td>\n",
       "      <td>1.543439e+09</td>\n",
       "      <td>27.760000</td>\n",
       "      <td>1.543399e+09</td>\n",
       "      <td>36.570000</td>\n",
       "      <td>1.543439e+09</td>\n",
       "    </tr>\n",
       "    <tr>\n",
       "      <th>50%</th>\n",
       "      <td>1.543737e+09</td>\n",
       "      <td>12.000000</td>\n",
       "      <td>17.000000</td>\n",
       "      <td>12.000000</td>\n",
       "      <td>13.500000</td>\n",
       "      <td>2.160000</td>\n",
       "      <td>1.000000</td>\n",
       "      <td>42.351900</td>\n",
       "      <td>-71.063100</td>\n",
       "      <td>40.490000</td>\n",
       "      <td>35.900000</td>\n",
       "      <td>0.000000</td>\n",
       "      <td>0.000000</td>\n",
       "      <td>0.710000</td>\n",
       "      <td>5.910000</td>\n",
       "      <td>7.550000</td>\n",
       "      <td>1.543756e+09</td>\n",
       "      <td>9.880000</td>\n",
       "      <td>44.680000</td>\n",
       "      <td>1.543788e+09</td>\n",
       "      <td>34.180000</td>\n",
       "      <td>1.543817e+09</td>\n",
       "      <td>40.950000</td>\n",
       "      <td>1.543788e+09</td>\n",
       "      <td>30.030000</td>\n",
       "      <td>1.543817e+09</td>\n",
       "      <td>30.690000</td>\n",
       "      <td>1009.250000</td>\n",
       "      <td>258.000000</td>\n",
       "      <td>0.820000</td>\n",
       "      <td>0.000000</td>\n",
       "      <td>9.880000</td>\n",
       "      <td>307.400000</td>\n",
       "      <td>1.543752e+09</td>\n",
       "      <td>1.543785e+09</td>\n",
       "      <td>0.680000</td>\n",
       "      <td>0.000400</td>\n",
       "      <td>1.543770e+09</td>\n",
       "      <td>34.240000</td>\n",
       "      <td>1.543727e+09</td>\n",
       "      <td>44.680000</td>\n",
       "      <td>1.543788e+09</td>\n",
       "      <td>30.130000</td>\n",
       "      <td>1.543745e+09</td>\n",
       "      <td>40.950000</td>\n",
       "      <td>1.543788e+09</td>\n",
       "    </tr>\n",
       "    <tr>\n",
       "      <th>75%</th>\n",
       "      <td>1.544828e+09</td>\n",
       "      <td>18.000000</td>\n",
       "      <td>28.000000</td>\n",
       "      <td>12.000000</td>\n",
       "      <td>22.500000</td>\n",
       "      <td>2.920000</td>\n",
       "      <td>1.000000</td>\n",
       "      <td>42.364700</td>\n",
       "      <td>-71.054200</td>\n",
       "      <td>43.580000</td>\n",
       "      <td>40.080000</td>\n",
       "      <td>0.000000</td>\n",
       "      <td>0.000000</td>\n",
       "      <td>0.880000</td>\n",
       "      <td>8.410000</td>\n",
       "      <td>11.740000</td>\n",
       "      <td>1.544846e+09</td>\n",
       "      <td>9.996000</td>\n",
       "      <td>46.910000</td>\n",
       "      <td>1.544814e+09</td>\n",
       "      <td>38.730000</td>\n",
       "      <td>1.544836e+09</td>\n",
       "      <td>44.120000</td>\n",
       "      <td>1.544818e+09</td>\n",
       "      <td>35.320000</td>\n",
       "      <td>1.544836e+09</td>\n",
       "      <td>38.120000</td>\n",
       "      <td>1021.860000</td>\n",
       "      <td>303.000000</td>\n",
       "      <td>1.000000</td>\n",
       "      <td>0.000000</td>\n",
       "      <td>9.996000</td>\n",
       "      <td>331.800000</td>\n",
       "      <td>1.544789e+09</td>\n",
       "      <td>1.544822e+09</td>\n",
       "      <td>0.790000</td>\n",
       "      <td>0.091600</td>\n",
       "      <td>1.544807e+09</td>\n",
       "      <td>38.880000</td>\n",
       "      <td>1.544789e+09</td>\n",
       "      <td>46.910000</td>\n",
       "      <td>1.544814e+09</td>\n",
       "      <td>35.710000</td>\n",
       "      <td>1.544789e+09</td>\n",
       "      <td>44.120000</td>\n",
       "      <td>1.544818e+09</td>\n",
       "    </tr>\n",
       "    <tr>\n",
       "      <th>max</th>\n",
       "      <td>1.545161e+09</td>\n",
       "      <td>23.000000</td>\n",
       "      <td>30.000000</td>\n",
       "      <td>12.000000</td>\n",
       "      <td>97.500000</td>\n",
       "      <td>7.860000</td>\n",
       "      <td>3.000000</td>\n",
       "      <td>42.366100</td>\n",
       "      <td>-71.033000</td>\n",
       "      <td>57.220000</td>\n",
       "      <td>57.220000</td>\n",
       "      <td>0.144700</td>\n",
       "      <td>1.000000</td>\n",
       "      <td>0.960000</td>\n",
       "      <td>15.000000</td>\n",
       "      <td>27.250000</td>\n",
       "      <td>1.545127e+09</td>\n",
       "      <td>10.000000</td>\n",
       "      <td>57.870000</td>\n",
       "      <td>1.545160e+09</td>\n",
       "      <td>46.600000</td>\n",
       "      <td>1.545221e+09</td>\n",
       "      <td>57.200000</td>\n",
       "      <td>1.545160e+09</td>\n",
       "      <td>47.250000</td>\n",
       "      <td>1.545199e+09</td>\n",
       "      <td>50.670000</td>\n",
       "      <td>1035.550000</td>\n",
       "      <td>356.000000</td>\n",
       "      <td>1.000000</td>\n",
       "      <td>2.000000</td>\n",
       "      <td>10.000000</td>\n",
       "      <td>378.900000</td>\n",
       "      <td>1.545135e+09</td>\n",
       "      <td>1.545168e+09</td>\n",
       "      <td>0.930000</td>\n",
       "      <td>0.145900</td>\n",
       "      <td>1.545152e+09</td>\n",
       "      <td>43.100000</td>\n",
       "      <td>1.545192e+09</td>\n",
       "      <td>57.870000</td>\n",
       "      <td>1.545109e+09</td>\n",
       "      <td>40.050000</td>\n",
       "      <td>1.545134e+09</td>\n",
       "      <td>57.200000</td>\n",
       "      <td>1.545109e+09</td>\n",
       "    </tr>\n",
       "  </tbody>\n",
       "</table>\n",
       "</div>"
      ],
      "text/plain": [
       "          timestamp           hour            day          month  \\\n",
       "count  6.930710e+05  693071.000000  693071.000000  693071.000000   \n",
       "mean   1.544046e+09      11.619137      17.794365      11.586684   \n",
       "std    6.891925e+05       6.948114       9.982286       0.492429   \n",
       "min    1.543204e+09       0.000000       1.000000      11.000000   \n",
       "25%    1.543444e+09       6.000000      13.000000      11.000000   \n",
       "50%    1.543737e+09      12.000000      17.000000      12.000000   \n",
       "75%    1.544828e+09      18.000000      28.000000      12.000000   \n",
       "max    1.545161e+09      23.000000      30.000000      12.000000   \n",
       "\n",
       "               price       distance  surge_multiplier       latitude  \\\n",
       "count  637976.000000  693071.000000     693071.000000  693071.000000   \n",
       "mean       16.545125       2.189430          1.013870      42.338172   \n",
       "std         9.324359       1.138937          0.091641       0.047840   \n",
       "min         2.500000       0.020000          1.000000      42.214800   \n",
       "25%         9.000000       1.280000          1.000000      42.350300   \n",
       "50%        13.500000       2.160000          1.000000      42.351900   \n",
       "75%        22.500000       2.920000          1.000000      42.364700   \n",
       "max        97.500000       7.860000          3.000000      42.366100   \n",
       "\n",
       "           longitude    temperature  apparentTemperature  precipIntensity  \\\n",
       "count  693071.000000  693071.000000        693071.000000    693071.000000   \n",
       "mean      -71.066151      39.584388            35.881222         0.008922   \n",
       "std         0.020302       6.726084             7.918707         0.026901   \n",
       "min       -71.105400      18.910000            12.130000         0.000000   \n",
       "25%       -71.081000      36.450000            31.910000         0.000000   \n",
       "50%       -71.063100      40.490000            35.900000         0.000000   \n",
       "75%       -71.054200      43.580000            40.080000         0.000000   \n",
       "max       -71.033000      57.220000            57.220000         0.144700   \n",
       "\n",
       "       precipProbability       humidity      windSpeed       windGust  \\\n",
       "count      693071.000000  693071.000000  693071.000000  693071.000000   \n",
       "mean            0.146076       0.741119       6.186253       8.469860   \n",
       "std             0.328938       0.138595       3.148223       5.289179   \n",
       "min             0.000000       0.380000       0.450000       0.800000   \n",
       "25%             0.000000       0.640000       3.410000       4.060000   \n",
       "50%             0.000000       0.710000       5.910000       7.550000   \n",
       "75%             0.000000       0.880000       8.410000      11.740000   \n",
       "max             1.000000       0.960000      15.000000      27.250000   \n",
       "\n",
       "       windGustTime     visibility  temperatureHigh  temperatureHighTime  \\\n",
       "count  6.930710e+05  693071.000000    693071.000000         6.930710e+05   \n",
       "mean   1.544049e+09       8.467970        45.040982         1.544050e+09   \n",
       "std    6.928244e+05       2.602888         5.996541         6.937921e+05   \n",
       "min    1.543151e+09       0.717000        32.680000         1.543154e+09   \n",
       "25%    1.543432e+09       8.432000        42.570000         1.543439e+09   \n",
       "50%    1.543756e+09       9.880000        44.680000         1.543788e+09   \n",
       "75%    1.544846e+09       9.996000        46.910000         1.544814e+09   \n",
       "max    1.545127e+09      10.000000        57.870000         1.545160e+09   \n",
       "\n",
       "       temperatureLow  temperatureLowTime  apparentTemperatureHigh  \\\n",
       "count   693071.000000        6.930710e+05            693071.000000   \n",
       "mean        34.150736        1.544102e+09                41.614054   \n",
       "std          6.383163        6.922923e+05                 7.666138   \n",
       "min         17.850000        1.543234e+09                22.620000   \n",
       "25%         30.170000        1.543489e+09                36.570000   \n",
       "50%         34.180000        1.543817e+09                40.950000   \n",
       "75%         38.730000        1.544836e+09                44.120000   \n",
       "max         46.600000        1.545221e+09                57.200000   \n",
       "\n",
       "       apparentTemperatureHighTime  apparentTemperatureLow  \\\n",
       "count                 6.930710e+05           693071.000000   \n",
       "mean                  1.544050e+09               30.139824   \n",
       "std                   6.941699e+05                8.057468   \n",
       "min                   1.543187e+09               11.810000   \n",
       "25%                   1.543439e+09               27.700000   \n",
       "50%                   1.543788e+09               30.030000   \n",
       "75%                   1.544818e+09               35.320000   \n",
       "max                   1.545160e+09               47.250000   \n",
       "\n",
       "       apparentTemperatureLowTime       dewPoint       pressure  \\\n",
       "count                6.930710e+05  693071.000000  693071.000000   \n",
       "mean                 1.544099e+09      31.656256    1010.094766   \n",
       "std                  6.927378e+05       9.142355      13.472899   \n",
       "min                  1.543234e+09       4.390000     988.090000   \n",
       "25%                  1.543478e+09      27.490000     999.820000   \n",
       "50%                  1.543817e+09      30.690000    1009.250000   \n",
       "75%                  1.544836e+09      38.120000    1021.860000   \n",
       "max                  1.545199e+09      50.670000    1035.550000   \n",
       "\n",
       "         windBearing     cloudCover        uvIndex   visibility.1  \\\n",
       "count  693071.000000  693071.000000  693071.000000  693071.000000   \n",
       "mean      220.055853       0.686502       0.248908       8.467970   \n",
       "std        99.102736       0.358534       0.474097       2.602888   \n",
       "min         2.000000       0.000000       0.000000       0.717000   \n",
       "25%       124.000000       0.370000       0.000000       8.432000   \n",
       "50%       258.000000       0.820000       0.000000       9.880000   \n",
       "75%       303.000000       1.000000       0.000000       9.996000   \n",
       "max       356.000000       1.000000       2.000000      10.000000   \n",
       "\n",
       "               ozone   sunriseTime    sunsetTime      moonPhase  \\\n",
       "count  693071.000000  6.930710e+05  6.930710e+05  693071.000000   \n",
       "mean      313.513635  1.544027e+09  1.544060e+09       0.579066   \n",
       "std        27.953061  6.911393e+05  6.906634e+05       0.244705   \n",
       "min       269.400000  1.543147e+09  1.543181e+09       0.090000   \n",
       "25%       290.900000  1.543406e+09  1.543440e+09       0.300000   \n",
       "50%       307.400000  1.543752e+09  1.543785e+09       0.680000   \n",
       "75%       331.800000  1.544789e+09  1.544822e+09       0.790000   \n",
       "max       378.900000  1.545135e+09  1.545168e+09       0.930000   \n",
       "\n",
       "       precipIntensityMax   uvIndexTime  temperatureMin  temperatureMinTime  \\\n",
       "count       693071.000000  6.930710e+05   693071.000000        6.930710e+05   \n",
       "mean             0.037374  1.544044e+09       33.457774        1.544042e+09   \n",
       "std              0.055214  6.912028e+05        6.467224        6.901954e+05   \n",
       "min              0.000000  1.543162e+09       15.630000        1.543122e+09   \n",
       "25%              0.000000  1.543421e+09       30.170000        1.543399e+09   \n",
       "50%              0.000400  1.543770e+09       34.240000        1.543727e+09   \n",
       "75%              0.091600  1.544807e+09       38.880000        1.544789e+09   \n",
       "max              0.145900  1.545152e+09       43.100000        1.545192e+09   \n",
       "\n",
       "       temperatureMax  temperatureMaxTime  apparentTemperatureMin  \\\n",
       "count   693071.000000        6.930710e+05           693071.000000   \n",
       "mean        45.261313        1.544047e+09               29.731002   \n",
       "std          5.645046        6.901353e+05                7.110494   \n",
       "min         33.510000        1.543154e+09               11.810000   \n",
       "25%         42.570000        1.543439e+09               27.760000   \n",
       "50%         44.680000        1.543788e+09               30.130000   \n",
       "75%         46.910000        1.544814e+09               35.710000   \n",
       "max         57.870000        1.545109e+09               40.050000   \n",
       "\n",
       "       apparentTemperatureMinTime  apparentTemperatureMax  \\\n",
       "count                6.930710e+05           693071.000000   \n",
       "mean                 1.544048e+09               41.997343   \n",
       "std                  6.871862e+05                6.936841   \n",
       "min                  1.543136e+09               28.950000   \n",
       "25%                  1.543399e+09               36.570000   \n",
       "50%                  1.543745e+09               40.950000   \n",
       "75%                  1.544789e+09               44.120000   \n",
       "max                  1.545134e+09               57.200000   \n",
       "\n",
       "       apparentTemperatureMaxTime  \n",
       "count                6.930710e+05  \n",
       "mean                 1.544048e+09  \n",
       "std                  6.910777e+05  \n",
       "min                  1.543187e+09  \n",
       "25%                  1.543439e+09  \n",
       "50%                  1.543788e+09  \n",
       "75%                  1.544818e+09  \n",
       "max                  1.545109e+09  "
      ]
     },
     "execution_count": 4,
     "metadata": {},
     "output_type": "execute_result"
    }
   ],
   "source": [
    "df.describe()"
   ]
  },
  {
   "cell_type": "markdown",
   "metadata": {
    "id": "vZu7dngG_F5D"
   },
   "source": [
    "#### Kolom dataset"
   ]
  },
  {
   "cell_type": "code",
   "execution_count": 5,
   "metadata": {
    "ExecuteTime": {
     "end_time": "2022-04-29T15:50:43.748304Z",
     "start_time": "2022-04-29T15:50:43.732600Z"
    },
    "colab": {
     "base_uri": "https://localhost:8080/"
    },
    "id": "yTrkCw6L_GPG",
    "outputId": "156b498f-7d19-4c28-ff68-ba81d99abd99"
   },
   "outputs": [
    {
     "name": "stdout",
     "output_type": "stream",
     "text": [
      "Index(['id', 'timestamp', 'hour', 'day', 'month', 'datetime', 'timezone',\n",
      "       'source', 'destination', 'cab_type', 'product_id', 'name', 'price',\n",
      "       'distance', 'surge_multiplier', 'latitude', 'longitude', 'temperature',\n",
      "       'apparentTemperature', 'short_summary', 'long_summary',\n",
      "       'precipIntensity', 'precipProbability', 'humidity', 'windSpeed',\n",
      "       'windGust', 'windGustTime', 'visibility', 'temperatureHigh',\n",
      "       'temperatureHighTime', 'temperatureLow', 'temperatureLowTime',\n",
      "       'apparentTemperatureHigh', 'apparentTemperatureHighTime',\n",
      "       'apparentTemperatureLow', 'apparentTemperatureLowTime', 'icon',\n",
      "       'dewPoint', 'pressure', 'windBearing', 'cloudCover', 'uvIndex',\n",
      "       'visibility.1', 'ozone', 'sunriseTime', 'sunsetTime', 'moonPhase',\n",
      "       'precipIntensityMax', 'uvIndexTime', 'temperatureMin',\n",
      "       'temperatureMinTime', 'temperatureMax', 'temperatureMaxTime',\n",
      "       'apparentTemperatureMin', 'apparentTemperatureMinTime',\n",
      "       'apparentTemperatureMax', 'apparentTemperatureMaxTime'],\n",
      "      dtype='object')\n"
     ]
    }
   ],
   "source": [
    "print(df.columns)"
   ]
  },
  {
   "cell_type": "markdown",
   "metadata": {
    "id": "SjBEyA0C_gRw"
   },
   "source": [
    "#### Tipe Data Tiap Kolom"
   ]
  },
  {
   "cell_type": "code",
   "execution_count": 6,
   "metadata": {
    "ExecuteTime": {
     "end_time": "2022-04-29T15:50:44.484703Z",
     "start_time": "2022-04-29T15:50:43.754387Z"
    },
    "colab": {
     "base_uri": "https://localhost:8080/",
     "height": 1000
    },
    "id": "F25SId7C_kR7",
    "outputId": "1942792c-ca43-4f29-bc3b-38a1faea97c3"
   },
   "outputs": [
    {
     "data": {
      "text/plain": [
       "id                              object\n",
       "timestamp                      float64\n",
       "hour                             int64\n",
       "day                              int64\n",
       "month                            int64\n",
       "datetime                        object\n",
       "timezone                        object\n",
       "source                          object\n",
       "destination                     object\n",
       "cab_type                        object\n",
       "product_id                      object\n",
       "name                            object\n",
       "price                          float64\n",
       "distance                       float64\n",
       "surge_multiplier               float64\n",
       "latitude                       float64\n",
       "longitude                      float64\n",
       "temperature                    float64\n",
       "apparentTemperature            float64\n",
       "short_summary                   object\n",
       "long_summary                    object\n",
       "precipIntensity                float64\n",
       "precipProbability              float64\n",
       "humidity                       float64\n",
       "windSpeed                      float64\n",
       "windGust                       float64\n",
       "windGustTime                     int64\n",
       "visibility                     float64\n",
       "temperatureHigh                float64\n",
       "temperatureHighTime              int64\n",
       "temperatureLow                 float64\n",
       "temperatureLowTime               int64\n",
       "apparentTemperatureHigh        float64\n",
       "apparentTemperatureHighTime      int64\n",
       "apparentTemperatureLow         float64\n",
       "apparentTemperatureLowTime       int64\n",
       "icon                            object\n",
       "dewPoint                       float64\n",
       "pressure                       float64\n",
       "windBearing                      int64\n",
       "cloudCover                     float64\n",
       "uvIndex                          int64\n",
       "visibility.1                   float64\n",
       "ozone                          float64\n",
       "sunriseTime                      int64\n",
       "sunsetTime                       int64\n",
       "moonPhase                      float64\n",
       "precipIntensityMax             float64\n",
       "uvIndexTime                      int64\n",
       "temperatureMin                 float64\n",
       "temperatureMinTime               int64\n",
       "temperatureMax                 float64\n",
       "temperatureMaxTime               int64\n",
       "apparentTemperatureMin         float64\n",
       "apparentTemperatureMinTime       int64\n",
       "apparentTemperatureMax         float64\n",
       "apparentTemperatureMaxTime       int64\n",
       "dtype: object"
      ]
     },
     "metadata": {},
     "output_type": "display_data"
    }
   ],
   "source": [
    "display(df.dtypes)"
   ]
  },
  {
   "cell_type": "markdown",
   "metadata": {
    "id": "kUk_bV0Q_47y"
   },
   "source": [
    "==================================================================================================================="
   ]
  },
  {
   "cell_type": "markdown",
   "metadata": {
    "id": "zY5KWcn1AAXM"
   },
   "source": [
    "# **DATA CLEANING**"
   ]
  },
  {
   "cell_type": "markdown",
   "metadata": {
    "id": "luYljSUBAmiY"
   },
   "source": [
    "#### Handling Missing Value"
   ]
  },
  {
   "cell_type": "code",
   "execution_count": null,
   "metadata": {
    "ExecuteTime": {
     "start_time": "2022-04-29T15:49:49.201Z"
    },
    "colab": {
     "base_uri": "https://localhost:8080/"
    },
    "id": "ielcIwnaAW8D",
    "outputId": "3dd9b633-0021-4c58-bfff-f224915cd678"
   },
   "outputs": [],
   "source": [
    "df.isnull().sum()"
   ]
  },
  {
   "cell_type": "markdown",
   "metadata": {
    "id": "7-nXIXBLA4ZG"
   },
   "source": [
    "Penjelasan : Kolom price yang nantinya akan dijadikan variabel dependen mempunyai missing value sebanyak 55095 data\n",
    "\n",
    "Solusi : Data missing value tersebut akan didrop, solusi ini dipilih karena data yang missing tersebut jumlahnya tidak terlalu banyak dibandingkan jumlah total data yaitu 693071 banding 55095 data"
   ]
  },
  {
   "cell_type": "markdown",
   "metadata": {
    "id": "4h1OozPbBlI-"
   },
   "source": [
    "---"
   ]
  },
  {
   "cell_type": "markdown",
   "metadata": {
    "id": "3igq28RKDjvu"
   },
   "source": [
    "#### Penghapusan data missing value"
   ]
  },
  {
   "cell_type": "code",
   "execution_count": null,
   "metadata": {
    "ExecuteTime": {
     "start_time": "2022-04-29T15:49:51.255Z"
    },
    "colab": {
     "base_uri": "https://localhost:8080/"
    },
    "id": "LG81XNzLEBkq",
    "outputId": "6868cae8-1493-4518-9f68-bfb3836ee646"
   },
   "outputs": [],
   "source": [
    "df.dropna(axis=0, inplace=True)\n",
    "df['price'].isnull().sum()"
   ]
  },
  {
   "cell_type": "code",
   "execution_count": null,
   "metadata": {
    "ExecuteTime": {
     "start_time": "2022-04-29T15:49:51.265Z"
    },
    "colab": {
     "base_uri": "https://localhost:8080/"
    },
    "id": "h3npiUDGEX4j",
    "outputId": "07c9a242-148c-440e-de3e-e1b64ff394ab"
   },
   "outputs": [],
   "source": [
    "print(\"Jumlah data sekarang : \", len(df))"
   ]
  },
  {
   "cell_type": "markdown",
   "metadata": {
    "id": "VsLpk0J3ENUK"
   },
   "source": [
    "Seperti yang bisa dilihat jumlah nilai missing value pada kolom price telah habis\n",
    "\n",
    "Dan jumlah data setelah dilakukan handling missing value berubah dari  693071 data menjadi 637976 data, tidak terlalu banyak data yang terbuang"
   ]
  },
  {
   "cell_type": "markdown",
   "metadata": {
    "id": "zyKJH3FTExEO"
   },
   "source": [
    "---"
   ]
  },
  {
   "cell_type": "markdown",
   "metadata": {
    "id": "Y0bqGISDKW37"
   },
   "source": [
    "#### Pengecekan kolom dengan nilai kategorikal dan numerik"
   ]
  },
  {
   "cell_type": "code",
   "execution_count": null,
   "metadata": {
    "ExecuteTime": {
     "start_time": "2022-04-29T15:49:53.342Z"
    },
    "colab": {
     "base_uri": "https://localhost:8080/",
     "height": 1000
    },
    "id": "5117qL5QK6b0",
    "outputId": "c7bdde8d-6efc-4c44-e8c9-f9cf73e3f0e6"
   },
   "outputs": [],
   "source": [
    "display(df.dtypes)"
   ]
  },
  {
   "cell_type": "code",
   "execution_count": null,
   "metadata": {
    "ExecuteTime": {
     "start_time": "2022-04-29T15:49:53.352Z"
    },
    "colab": {
     "base_uri": "https://localhost:8080/"
    },
    "id": "QuE5c2GnLE8e",
    "outputId": "7496590f-eaa1-4de2-e4c0-e28f1b1bc433"
   },
   "outputs": [],
   "source": [
    "df['cab_type'].value_counts()"
   ]
  },
  {
   "cell_type": "markdown",
   "metadata": {
    "id": "O-6qHhGTLM1E"
   },
   "source": [
    "Kolom yang ,mempunyai tipe data object atau string akan didrop, kecuali kolom \"cab_type\", karena hanya memiliki 2 nilai yang nantinya bisa diubah kedalam bentuk numerik"
   ]
  },
  {
   "cell_type": "markdown",
   "metadata": {
    "id": "qIFmjAeoLlm1"
   },
   "source": [
    "---"
   ]
  },
  {
   "cell_type": "markdown",
   "metadata": {
    "id": "bhaKbM9GLwAc"
   },
   "source": [
    "#### Pengubahan nilai kolom \"cab_type\" menjadi nilai numerik"
   ]
  },
  {
   "cell_type": "code",
   "execution_count": null,
   "metadata": {
    "ExecuteTime": {
     "start_time": "2022-04-29T15:49:55.176Z"
    },
    "id": "w-nua7VxL_3T"
   },
   "outputs": [],
   "source": [
    "le = LabelEncoder()"
   ]
  },
  {
   "cell_type": "code",
   "execution_count": null,
   "metadata": {
    "ExecuteTime": {
     "start_time": "2022-04-29T15:49:55.185Z"
    },
    "id": "6Ig5O5G0L4Qx"
   },
   "outputs": [],
   "source": [
    "df['cab_type'] = le.fit_transform(df.cab_type)"
   ]
  },
  {
   "cell_type": "code",
   "execution_count": null,
   "metadata": {
    "ExecuteTime": {
     "start_time": "2022-04-29T15:49:55.195Z"
    },
    "colab": {
     "base_uri": "https://localhost:8080/"
    },
    "id": "O94PW91jMSK1",
    "outputId": "6e2a8d58-7579-4354-c791-9394d76d6bcf"
   },
   "outputs": [],
   "source": [
    "df['cab_type']"
   ]
  },
  {
   "cell_type": "markdown",
   "metadata": {
    "id": "yB-Hv7ySNJ08"
   },
   "source": [
    "---"
   ]
  },
  {
   "cell_type": "markdown",
   "metadata": {
    "id": "HOVL5aVvNMbC"
   },
   "source": [
    "#### Penghapusan Kolom yang tidak dipakai"
   ]
  },
  {
   "cell_type": "code",
   "execution_count": null,
   "metadata": {
    "ExecuteTime": {
     "start_time": "2022-04-29T15:49:56.814Z"
    },
    "colab": {
     "base_uri": "https://localhost:8080/",
     "height": 1000
    },
    "id": "VFnCq24INlTz",
    "outputId": "150efbd7-3b28-442c-a80a-67ceeedd9bbf"
   },
   "outputs": [],
   "source": [
    "display(df.dtypes)"
   ]
  },
  {
   "cell_type": "code",
   "execution_count": null,
   "metadata": {
    "ExecuteTime": {
     "start_time": "2022-04-29T15:49:56.826Z"
    },
    "id": "kAhvWFbfNWjp"
   },
   "outputs": [],
   "source": [
    "df = df.drop(['id','timestamp' ,'datetime', 'timezone', 'source', 'destination', 'product_id', 'name', 'short_summary', 'long_summary', 'icon'], axis=1)"
   ]
  },
  {
   "cell_type": "code",
   "execution_count": null,
   "metadata": {
    "ExecuteTime": {
     "start_time": "2022-04-29T15:49:56.842Z"
    },
    "colab": {
     "base_uri": "https://localhost:8080/",
     "height": 487
    },
    "id": "gkKC2fELORCa",
    "outputId": "0eae93ef-1cff-4efc-f8e8-b896c909e056"
   },
   "outputs": [],
   "source": [
    "df"
   ]
  },
  {
   "cell_type": "code",
   "execution_count": null,
   "metadata": {
    "ExecuteTime": {
     "start_time": "2022-04-29T15:49:56.853Z"
    }
   },
   "outputs": [],
   "source": [
    "df.surge_multiplier.unique()"
   ]
  },
  {
   "cell_type": "markdown",
   "metadata": {
    "id": "gilAlx0pOPOo"
   },
   "source": [
    "---"
   ]
  },
  {
   "cell_type": "markdown",
   "metadata": {},
   "source": [
    "# Data Preprocessing"
   ]
  },
  {
   "cell_type": "markdown",
   "metadata": {
    "ExecuteTime": {
     "end_time": "2022-04-23T07:11:56.646321Z",
     "start_time": "2022-04-23T07:11:33.444704Z"
    }
   },
   "source": [
    "Karena kolomnya sangat banyak, jadinya perlu diambil kolom mana yang paling berpengaruh terhadap price. Untuk itu, dilakukanlah pencarian korelasi."
   ]
  },
  {
   "cell_type": "code",
   "execution_count": null,
   "metadata": {
    "ExecuteTime": {
     "start_time": "2022-04-29T15:49:58.965Z"
    },
    "scrolled": false
   },
   "outputs": [],
   "source": [
    "dfcorr = df.corr()\n",
    "dfcorr"
   ]
  },
  {
   "cell_type": "markdown",
   "metadata": {},
   "source": [
    "Berikutnya melihat korelasi dengan heatmap"
   ]
  },
  {
   "cell_type": "code",
   "execution_count": null,
   "metadata": {
    "ExecuteTime": {
     "start_time": "2022-04-29T15:49:59.491Z"
    }
   },
   "outputs": [],
   "source": [
    "plt.figure(figsize=(20, 20))\n",
    "sns.heatmap(dfcorr, cmap='ocean')"
   ]
  },
  {
   "cell_type": "markdown",
   "metadata": {},
   "source": [
    "Tahap berikutnya menyeleksi kolom mana yang ingin dipakai dengan acuan nilai korelasinya di atas 0,005 dan di bawah -0,005 terhadap price. Alasannya adalah semakin angka tersebut mendekati 0 maka pengaruhnya makin kecil dan price-lah yang ingin dijadikan sebagai hasil forecasting untuk regresi linear"
   ]
  },
  {
   "cell_type": "code",
   "execution_count": null,
   "metadata": {
    "ExecuteTime": {
     "start_time": "2022-04-29T15:50:00.016Z"
    }
   },
   "outputs": [],
   "source": [
    "dfcorr2 = dfcorr[(dfcorr['price'] >= 0.001) | (dfcorr['price'] <= -0.001)]\n",
    "dfcorr2['price']"
   ]
  },
  {
   "cell_type": "code",
   "execution_count": null,
   "metadata": {
    "ExecuteTime": {
     "start_time": "2022-04-29T15:50:00.032Z"
    }
   },
   "outputs": [],
   "source": [
    "dfcorr3 = dfcorr[(dfcorr['surge_multiplier'] >= 0.001) | (dfcorr['surge_multiplier'] <= -0.001)]\n",
    "dfcorr3['surge_multiplier']"
   ]
  },
  {
   "cell_type": "markdown",
   "metadata": {},
   "source": [
    "Setelah melakukan penyaringan dengan patokan korelasi, maka kita akan mengambil 8 kolom yaitu distance,surge_multiplier, price, cab_type, windgust, windbearing, visibility, dan moonphase. Sebelumnya, mentor menyarankan untuk mengambil hour dan day sebagai patokan juga. Akan tetapi, korelasinya sedikit sehingga tidak mengambil hour dan day."
   ]
  },
  {
   "cell_type": "code",
   "execution_count": null,
   "metadata": {
    "ExecuteTime": {
     "start_time": "2022-04-29T15:50:00.516Z"
    }
   },
   "outputs": [],
   "source": [
    "true_df = df[['distance', 'surge_multiplier', 'price', 'cab_type', 'visibility', 'windBearing', 'moonPhase', 'windGust']]\n",
    "true_df.head(3)"
   ]
  },
  {
   "cell_type": "code",
   "execution_count": null,
   "metadata": {
    "ExecuteTime": {
     "start_time": "2022-04-29T15:50:00.526Z"
    }
   },
   "outputs": [],
   "source": [
    "plt.figure(figsize=(6, 6))\n",
    "plt.title('Korelasi Heatmap dari Dataframe baru')\n",
    "sns.heatmap(true_df.corr(), annot=True, cmap='cool')"
   ]
  },
  {
   "cell_type": "markdown",
   "metadata": {},
   "source": [
    "Berikutnya adalah membagi data tersebut menjadi X dan y. X akan dipilih kolom distance, surge_multiplier, cab_type, windgust, windbearing, visibility, dan moonphase,  sedangkan y adalah price."
   ]
  },
  {
   "cell_type": "code",
   "execution_count": null,
   "metadata": {
    "ExecuteTime": {
     "start_time": "2022-04-29T15:50:01.044Z"
    },
    "scrolled": false
   },
   "outputs": [],
   "source": [
    "X = true_df.drop(columns=['price'])\n",
    "y = true_df['price']\n",
    "display(X.head(3))\n",
    "display(y.head(3))"
   ]
  },
  {
   "cell_type": "code",
   "execution_count": null,
   "metadata": {
    "ExecuteTime": {
     "start_time": "2022-04-29T15:50:01.055Z"
    }
   },
   "outputs": [],
   "source": [
    "def histo(newdf, judul, labelx, labely='Banyaknya Index'):\n",
    "    newdf.hist(grid=False, figsize=(15,7), facecolor='crimson')\n",
    "    plt.title(judul)\n",
    "    plt.xlabel(labelx)\n",
    "    plt.ylabel(labely)\n",
    "    plt.show()"
   ]
  },
  {
   "cell_type": "markdown",
   "metadata": {},
   "source": [
    "Menampilkan grafik histogram pada distance"
   ]
  },
  {
   "cell_type": "code",
   "execution_count": null,
   "metadata": {
    "ExecuteTime": {
     "start_time": "2022-04-29T15:50:01.547Z"
    }
   },
   "outputs": [],
   "source": [
    "histo(df['distance'], judul=\"Grafik Persebaran Distance\" , labelx='Jarak')"
   ]
  },
  {
   "cell_type": "markdown",
   "metadata": {},
   "source": [
    "Menampilkan grafik histogram pada Surge Multiplier"
   ]
  },
  {
   "cell_type": "code",
   "execution_count": null,
   "metadata": {
    "ExecuteTime": {
     "start_time": "2022-04-29T15:50:02.036Z"
    },
    "scrolled": false
   },
   "outputs": [],
   "source": [
    "histo(df['surge_multiplier'], judul=\"Grafik Persebaran Surge Multiplier\" , labelx='Surge Multiplier')"
   ]
  },
  {
   "cell_type": "markdown",
   "metadata": {},
   "source": [
    "Menampilkan grafik histogram pada Cab Type"
   ]
  },
  {
   "cell_type": "code",
   "execution_count": null,
   "metadata": {
    "ExecuteTime": {
     "start_time": "2022-04-29T15:50:02.524Z"
    },
    "scrolled": true
   },
   "outputs": [],
   "source": [
    "histo(df['cab_type'], judul=\"Grafik Persebaran Cab Type\" , labelx='Cab Type')"
   ]
  },
  {
   "cell_type": "markdown",
   "metadata": {},
   "source": [
    "Menampilkan grafik histogram pada Price"
   ]
  },
  {
   "cell_type": "code",
   "execution_count": null,
   "metadata": {
    "ExecuteTime": {
     "start_time": "2022-04-29T15:50:03.036Z"
    },
    "scrolled": true
   },
   "outputs": [],
   "source": [
    "histo(df['price'], judul=\"Grafik Persebaran Price\" , labelx='Price')"
   ]
  },
  {
   "cell_type": "code",
   "execution_count": null,
   "metadata": {
    "ExecuteTime": {
     "start_time": "2022-04-29T15:50:03.047Z"
    }
   },
   "outputs": [],
   "source": [
    "histo(df['visibility'], judul=\"Grafik Persebaran visibility\" , labelx='visibility')"
   ]
  },
  {
   "cell_type": "code",
   "execution_count": null,
   "metadata": {
    "ExecuteTime": {
     "start_time": "2022-04-29T15:50:03.058Z"
    }
   },
   "outputs": [],
   "source": [
    "histo(df['moonPhase'], judul=\"Grafik Persebaran moonPhase\" , labelx='moonPhase')"
   ]
  },
  {
   "cell_type": "code",
   "execution_count": null,
   "metadata": {
    "ExecuteTime": {
     "start_time": "2022-04-29T15:50:03.071Z"
    }
   },
   "outputs": [],
   "source": [
    "histo(df['windGust'], judul=\"Grafik Persebaran windGust\" , labelx='windGust')"
   ]
  },
  {
   "cell_type": "code",
   "execution_count": null,
   "metadata": {
    "ExecuteTime": {
     "start_time": "2022-04-29T15:50:03.081Z"
    }
   },
   "outputs": [],
   "source": [
    "histo(df['windBearing'], judul=\"Grafik Persebaran windBearing\" , labelx='windBearing')"
   ]
  },
  {
   "cell_type": "markdown",
   "metadata": {},
   "source": [
    "Tahap berikutnya adalah melakukan split data. Menurut dugaan saya, data akan bagus jika X distandarisasi. Akan tetapi, saya cukup ragu sehingga langkah berikutnya adalah melakukan split data dengan 2 X yaitu X yang belum distandarisasi dan X yang telah distandarisasi."
   ]
  },
  {
   "cell_type": "markdown",
   "metadata": {},
   "source": [
    "## X tanpa Standarisasi"
   ]
  },
  {
   "cell_type": "markdown",
   "metadata": {},
   "source": [
    "Berikutnya X dan y akan dibagi menjadi X_train, X_test, y_train, dan y_test. Untuk random state yang dipakai adalah 69 dan train size yang digunakan adalah 69%"
   ]
  },
  {
   "cell_type": "code",
   "execution_count": null,
   "metadata": {
    "ExecuteTime": {
     "start_time": "2022-04-29T15:50:04.804Z"
    }
   },
   "outputs": [],
   "source": [
    "X_train, X_test, y_train, y_test = train_test_split(X, y, train_size=0.69 ,random_state=69)\n",
    "\n",
    "print('Data X Train')\n",
    "display(X_train.head(3))\n",
    "\n",
    "print('Data X Test')\n",
    "display(X_test.head(3))\n",
    "\n",
    "print('Data y Train')\n",
    "display(y_train.head(3))\n",
    "\n",
    "print('Data y Test')\n",
    "display(y_test.head(3))"
   ]
  },
  {
   "cell_type": "markdown",
   "metadata": {},
   "source": [
    "## X dengan Standarisasi"
   ]
  },
  {
   "cell_type": "markdown",
   "metadata": {},
   "source": [
    "Data X akan dilakukan normalisasi supaya memperbagus hasil regresi linear"
   ]
  },
  {
   "cell_type": "code",
   "execution_count": null,
   "metadata": {
    "ExecuteTime": {
     "start_time": "2022-04-29T15:50:05.795Z"
    }
   },
   "outputs": [],
   "source": [
    "scaler = StandardScaler()\n",
    "X_norm = scaler.fit_transform(X)\n",
    "X_norm = pd.DataFrame(data=X_norm, columns=['distance', 'surge_multiplier', 'cab_type','visibility', 'windBearing', 'moonPhase', 'windGust'])\n",
    "X_norm"
   ]
  },
  {
   "cell_type": "code",
   "execution_count": null,
   "metadata": {
    "ExecuteTime": {
     "start_time": "2022-04-29T15:50:05.806Z"
    }
   },
   "outputs": [],
   "source": [
    "X_train_norm, X_test_norm, y_train, y_test = train_test_split(X_norm, y, train_size=0.69 ,random_state=69)\n",
    "\n",
    "print('Data X Train')\n",
    "display(X_train_norm.head(3))\n",
    "\n",
    "print('Data X Test')\n",
    "display(X_test_norm.head(3))\n",
    "\n",
    "print('Data y Train')\n",
    "display(y_train.head(3))\n",
    "\n",
    "print('Data y Test')\n",
    "display(y_test.head(3))"
   ]
  },
  {
   "cell_type": "code",
   "execution_count": null,
   "metadata": {},
   "outputs": [],
   "source": []
  },
  {
   "cell_type": "markdown",
   "metadata": {},
   "source": [
    "# Pendefinisian Model"
   ]
  },
  {
   "cell_type": "markdown",
   "metadata": {},
   "source": [
    "Alasan menggunakan model regresi linear karena tujuan akhir dari projek ini. \n",
    "Tujuan projek ini yaitu memprediksi berapa harga dari lyft atau uber jika kita memasukkan jarak, surge multplier, cab, windgust, windbearing, moonphase, dan visibility.\n",
    "Regresi linear merupakan algoritma machine learning yang sangat cocok untuk data yang tipikalnya continu."
   ]
  },
  {
   "cell_type": "markdown",
   "metadata": {},
   "source": [
    "# Pelatihan Model"
   ]
  },
  {
   "cell_type": "markdown",
   "metadata": {},
   "source": [
    "Model pertama dibuat dengan X tanpa standarisasi"
   ]
  },
  {
   "cell_type": "code",
   "execution_count": null,
   "metadata": {
    "ExecuteTime": {
     "start_time": "2022-04-29T15:50:07.767Z"
    }
   },
   "outputs": [],
   "source": [
    "model = LinearRegression().fit(X_train, y_train)"
   ]
  },
  {
   "cell_type": "code",
   "execution_count": null,
   "metadata": {
    "ExecuteTime": {
     "start_time": "2022-04-29T15:50:07.776Z"
    }
   },
   "outputs": [],
   "source": [
    "y_predict = model.predict(X_test)"
   ]
  },
  {
   "cell_type": "markdown",
   "metadata": {},
   "source": [
    "Model kedua X dibuat dengan standarisasi"
   ]
  },
  {
   "cell_type": "code",
   "execution_count": null,
   "metadata": {
    "ExecuteTime": {
     "start_time": "2022-04-29T15:50:08.291Z"
    }
   },
   "outputs": [],
   "source": [
    "model2 = LinearRegression().fit(X_train_norm, y_train)"
   ]
  },
  {
   "cell_type": "code",
   "execution_count": null,
   "metadata": {
    "ExecuteTime": {
     "start_time": "2022-04-29T15:50:08.300Z"
    }
   },
   "outputs": [],
   "source": [
    "y_predict2 = model.predict(X_test_norm)"
   ]
  },
  {
   "cell_type": "markdown",
   "metadata": {},
   "source": [
    "Kita akan mencoba menggunakannya dengan data baru yang telah kami siapkan"
   ]
  },
  {
   "cell_type": "markdown",
   "metadata": {},
   "source": [
    "# Evaluasi Model"
   ]
  },
  {
   "cell_type": "markdown",
   "metadata": {},
   "source": [
    "Lakukan perbandingan data agar bisa mengetahui hasil prediksi yang lebih bagus"
   ]
  },
  {
   "cell_type": "code",
   "execution_count": null,
   "metadata": {
    "ExecuteTime": {
     "start_time": "2022-04-29T15:50:09.817Z"
    }
   },
   "outputs": [],
   "source": [
    "y_dataframe = pd.DataFrame({\n",
    "    'y_test':y_test, \n",
    "    'y_predict':y_predict, \n",
    "    'y_predict2':y_predict2,\n",
    "    'yt - yp1':abs(y_test-y_predict),\n",
    "    'yt - yp2':abs(y_test-y_predict2),\n",
    "    'yp1 > yp2': abs(y_test-y_predict) > abs(y_test-y_predict2),\n",
    "})\n",
    "display(y_dataframe.head(3))\n",
    "print('Ada berapa selisih ytest dengan y_predict lebih besar daripada ytest dengan y_predict2 ?')\n",
    "yp1_less = y_dataframe[y_dataframe['yp1 > yp2'] == False]['yp1 > yp2'].count()\n",
    "display(yp1_less)\n",
    "print('Ada berapa selisih ytest dengan y_predict lebih kecil daripada ytest dengan y_predict2 ?')\n",
    "yp1_more = y_dataframe[y_dataframe['yp1 > yp2'] == True]['yp1 > yp2'].count()\n",
    "\n",
    "display(yp1_more)"
   ]
  },
  {
   "cell_type": "markdown",
   "metadata": {},
   "source": [
    "Tampilan perbandingan dalam bentuk grafik"
   ]
  },
  {
   "cell_type": "code",
   "execution_count": null,
   "metadata": {
    "ExecuteTime": {
     "start_time": "2022-04-29T15:50:10.320Z"
    }
   },
   "outputs": [],
   "source": [
    "data_01 = np.array([yp1_less, yp1_more])\n",
    "predict_less_more = pd.DataFrame(data=data_01, columns=['False'])\n",
    "predict_less_more['True'] = yp1_more\n",
    "predict_less_more.drop(index=1, inplace=True)\n",
    "predict_less_more\n",
    "\n",
    "predict_less_more.plot(kind='bar', align='edge', figsize=(14,7))\n",
    "plt.title('Apakah yp1 > yp2')\n",
    "plt.ylabel('Banyaknya data')\n",
    "plt.xlabel('Y Predict')\n",
    "plt.show()"
   ]
  },
  {
   "cell_type": "markdown",
   "metadata": {
    "ExecuteTime": {
     "end_time": "2022-04-23T10:15:10.698996Z",
     "start_time": "2022-04-23T10:15:10.682889Z"
    }
   },
   "source": [
    "Berdasarkan data tersebut, dapat diketahui kalau tanpa adanya standarisasi, data tersebut lebih bagus daripada menggunakan standarisasi. Hal ini terjadi karena pada versi sebelum standarisasi, data X-nya masih murni sehingga koefisien dari linear regresinya akan lebih akurat untuk memprediksi hasil y yaitu price."
   ]
  },
  {
   "cell_type": "code",
   "execution_count": null,
   "metadata": {
    "ExecuteTime": {
     "start_time": "2022-04-29T15:50:10.972Z"
    }
   },
   "outputs": [],
   "source": [
    "# ypredpred = model.predict(df)\n",
    "# ypredpred"
   ]
  },
  {
   "cell_type": "markdown",
   "metadata": {},
   "source": [
    "Melakukan ekspor model"
   ]
  },
  {
   "cell_type": "code",
   "execution_count": null,
   "metadata": {
    "ExecuteTime": {
     "start_time": "2022-04-29T15:50:11.550Z"
    }
   },
   "outputs": [],
   "source": [
    "import pickle\n",
    "pickle.dump(model, open('linear_regression.pkl','wb'))"
   ]
  },
  {
   "cell_type": "markdown",
   "metadata": {},
   "source": [
    "# Penarikan Kesimpulan"
   ]
  },
  {
   "cell_type": "markdown",
   "metadata": {},
   "source": [
    "Beberapa informasi yang bisa didapatkan dari percobaan ini yaitu :\n",
    "1. Banyaknya data adalah 693071 dan banyaknya kolom adalah 57. Akan tetapi, banyaknya data yang terpakai adalah 637976 dan banyaknya kolom yang terpakai adalah distance,surge_multiplier, price, cab_type, windgust, windbearing, visibility, dan moonphase\n",
    "2. Data yang digunakan tidak terlalu bersih sehingga perlu dilakukan penanganan terhadap data yang hilang.\n",
    "3. Nilai kolom cab_type diubah, tetapi tidak digunakan\n",
    "4. Banyaknya kolom pada suatu data tidak harus dijadikan sebagai bagian dari linear regresi. Sebagai contoh, banyaknya berbagai kolom tentang temperature dicantumkan di dataset, tetapi tidak ada yang digunakan karena nilai korelasinya hampir mendekati 0 pada price. Pada pengukuran ini, kolom yang dipakai adalah kolom yang nilai korelasinya 0.001 pada price\n",
    "5. Melakukan pemilihan kolom yang dipakai sangat berguna untuk meringankan kinerja komputasi data.\n",
    "6. Pemilihan kolom tidak bisa dilakukan secara sembarang, harus ada alasan atau bukti yang melandasi. Dalam percobaan ini, bukti yang melandasi adalah type dari data dan nilai korelasi kepada price.\n",
    "7. Pada percobaan kali ini, menggunakan dua jenis X yaitu X tanpa standarisasi dan X dengan standarisasi.\n",
    "8. Kedua X itu membuat y predict dan hasilnya X tanpa standarisasi yang hampir mendekati y test."
   ]
  },
  {
   "cell_type": "markdown",
   "metadata": {},
   "source": [
    "Kesimpulan dalam percobaan ini yaitu :\n",
    "1. Tidak selamanya data X hasil standarisasi akan lebih baik daripada X tanpa standarisasi dalam kasus linear regresi. Oleh karena itu, harus ada perbandingan terlebih dahulu.\n",
    "2. Kolom dari dataset yang dipakai untuk percobaan ini adalah distance,surge_multiplier, price, cab_type, windgust, windbearing, visibility, dan moonphase. Alasannya memakai data tersebut adalah nilai korelasinya di atas 0.001 terhadap price."
   ]
  },
  {
   "cell_type": "code",
   "execution_count": null,
   "metadata": {},
   "outputs": [],
   "source": []
  }
 ],
 "metadata": {
  "colab": {
   "collapsed_sections": [],
   "name": "Project 1.ipynb",
   "provenance": []
  },
  "kernelspec": {
   "display_name": "Python 3 (ipykernel)",
   "language": "python",
   "name": "python3"
  },
  "language_info": {
   "codemirror_mode": {
    "name": "ipython",
    "version": 3
   },
   "file_extension": ".py",
   "mimetype": "text/x-python",
   "name": "python",
   "nbconvert_exporter": "python",
   "pygments_lexer": "ipython3",
   "version": "3.9.2"
  },
  "latex_envs": {
   "LaTeX_envs_menu_present": true,
   "autoclose": false,
   "autocomplete": true,
   "bibliofile": "biblio.bib",
   "cite_by": "apalike",
   "current_citInitial": 1,
   "eqLabelWithNumbers": true,
   "eqNumInitial": 1,
   "hotkeys": {
    "equation": "Ctrl-E",
    "itemize": "Ctrl-I"
   },
   "labels_anchors": false,
   "latex_user_defs": false,
   "report_style_numbering": false,
   "user_envs_cfg": false
  },
  "toc": {
   "base_numbering": 1,
   "nav_menu": {},
   "number_sections": true,
   "sideBar": true,
   "skip_h1_title": false,
   "title_cell": "Table of Contents",
   "title_sidebar": "Contents",
   "toc_cell": false,
   "toc_position": {
    "height": "calc(100% - 180px)",
    "left": "10px",
    "top": "150px",
    "width": "341.484px"
   },
   "toc_section_display": true,
   "toc_window_display": true
  }
 },
 "nbformat": 4,
 "nbformat_minor": 1
}
